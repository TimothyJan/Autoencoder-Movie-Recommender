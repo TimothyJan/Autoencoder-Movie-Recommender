{
  "nbformat": 4,
  "nbformat_minor": 0,
  "metadata": {
    "colab": {
      "name": "Project 5 - Autoencoder Movie Recommender.ipynb",
      "provenance": [],
      "collapsed_sections": [],
      "include_colab_link": true
    },
    "kernelspec": {
      "name": "python3",
      "display_name": "Python 3"
    },
    "language_info": {
      "name": "python"
    },
    "accelerator": "GPU"
  },
  "cells": [
    {
      "cell_type": "markdown",
      "metadata": {
        "id": "view-in-github",
        "colab_type": "text"
      },
      "source": [
        "<a href=\"https://colab.research.google.com/github/TimothyJan/Autoencoder-Movie-Recommender/blob/main/Autoencoder_Movie_Recommender.ipynb\" target=\"_parent\"><img src=\"https://colab.research.google.com/assets/colab-badge.svg\" alt=\"Open In Colab\"/></a>"
      ]
    },
    {
      "cell_type": "markdown",
      "source": [
        "<h1>Project 5 - Recommendation with Autoencoders</h1>\n",
        "<p>CPSC 585<br>\n",
        "Spring 2022<br>\n",
        "Section 13883<br></p>\n",
        "\n",
        "Sean Javiya<br>\n",
        "Timothy Jan<br>\n",
        "Timothy Kheang<br>\n",
        "\n",
        "In Project 5, we apply autoencoders to the task of making movie recommendations.\n",
        "\n",
        "Goals for this project are:\n",
        "<ul>\n",
        "  <li>Examining how autoencoders can be used for recommendation.</li>\n",
        "  <li>Understanding the connection between autoencoders and embedding.</li>\n",
        "  <li>Implementing basic, deep, and variational autoencoders.</li>\n",
        "  <li>Evaluating recommender performance.</li>\n",
        "</ul>"
      ],
      "metadata": {
        "id": "9V2TJ-DOiVzX"
      }
    },
    {
      "cell_type": "markdown",
      "source": [
        "<h1>Experiment 1</h1>\n",
        "<p>We began with the Keras example <a href=\"https://keras.io/examples/structured_data/collaborative_filtering_movielens/\">Collaborative Filtering for Movie Recommendations</a>.</p>\n",
        "\n",
        "<p>This example demonstrates <a href=\"https://en.wikipedia.org/wiki/Collaborative_filtering\">Collaborative filtering</a> using the <a href=\"https://www.kaggle.com/c/movielens-100k\">Movielens dataset</a> to recommend movies to users. The MovieLens ratings dataset lists the ratings given by a set of users to a set of movies. Our goal is to be able to predict ratings for movies a user has not yet watched. The movies with the highest predicted ratings can then be recommended to the user.</p>\n",
        "\n",
        "<p>First we download the <a href=https://www.kaggle.com/c/movielens-100k>Movielens</a> dataset, extract it, and save the CSV into <code>ratings_file</code>. It is then read into a Pandas Dataframe <code>df</code> with <code>pd.read_csv</code>.</p>"
      ],
      "metadata": {
        "id": "VvPj5B-Xi7oR"
      }
    },
    {
      "cell_type": "code",
      "execution_count": 39,
      "metadata": {
        "id": "LwHPiMxXgrzX"
      },
      "outputs": [],
      "source": [
        "import pandas as pd\n",
        "import numpy as np\n",
        "from zipfile import ZipFile\n",
        "import tensorflow as tf\n",
        "from tensorflow import keras\n",
        "from tensorflow.keras import layers\n",
        "from pathlib import Path\n",
        "import matplotlib.pyplot as plt"
      ]
    },
    {
      "cell_type": "code",
      "source": [
        "# Download the actual data from http://files.grouplens.org/datasets/movielens/ml-latest-small.zip\"\n",
        "# Use the ratings.csv file\n",
        "movielens_data_file_url = (\n",
        "    \"http://files.grouplens.org/datasets/movielens/ml-latest-small.zip\"\n",
        ")\n",
        "movielens_zipped_file = keras.utils.get_file(\n",
        "    \"ml-latest-small.zip\", movielens_data_file_url, extract=False\n",
        ")\n",
        "keras_datasets_path = Path(movielens_zipped_file).parents[0]\n",
        "movielens_dir = keras_datasets_path / \"ml-latest-small\"\n",
        "\n",
        "# Only extract the data the first time the script is run.\n",
        "if not movielens_dir.exists():\n",
        "    with ZipFile(movielens_zipped_file, \"r\") as zip:\n",
        "        # Extract files\n",
        "        print(\"Extracting all the files now...\")\n",
        "        zip.extractall(path=keras_datasets_path)\n",
        "        print(\"Done!\")\n",
        "\n",
        "ratings_file = movielens_dir / \"ratings.csv\"\n",
        "df = pd.read_csv(ratings_file)"
      ],
      "metadata": {
        "id": "ng1PiosHj208"
      },
      "execution_count": 40,
      "outputs": []
    },
    {
      "cell_type": "markdown",
      "source": [
        "<p>Next, we do some preprocessing to encode users and movies as integer indices. We take the <code>df</code> columns <code>userId</code> and <code>movieId</code>, encode them, and save them into two new columns <code>user</code> and <code>movie</code>. <code>min_rating</code> and <code>max_rating</code> will be used to normalize the ratings later.</p>"
      ],
      "metadata": {
        "id": "zbRv2Tm4kJ6l"
      }
    },
    {
      "cell_type": "code",
      "source": [
        "user_ids = df[\"userId\"].unique().tolist()\n",
        "user2user_encoded = {x: i for i, x in enumerate(user_ids)}\n",
        "userencoded2user = {i: x for i, x in enumerate(user_ids)}\n",
        "movie_ids = df[\"movieId\"].unique().tolist()\n",
        "movie2movie_encoded = {x: i for i, x in enumerate(movie_ids)}\n",
        "movie_encoded2movie = {i: x for i, x in enumerate(movie_ids)}\n",
        "df[\"user\"] = df[\"userId\"].map(user2user_encoded)\n",
        "df[\"movie\"] = df[\"movieId\"].map(movie2movie_encoded)\n",
        "\n",
        "num_users = len(user2user_encoded)\n",
        "num_movies = len(movie_encoded2movie)\n",
        "df[\"rating\"] = df[\"rating\"].values.astype(np.float32)\n",
        "# min and max ratings will be used to normalize the ratings later\n",
        "min_rating = min(df[\"rating\"])\n",
        "max_rating = max(df[\"rating\"])\n",
        "\n",
        "print(\n",
        "    \"Number of users: {}, Number of Movies: {}, Min rating: {}, Max rating: {}\".format(\n",
        "        num_users, num_movies, min_rating, max_rating\n",
        "    )\n",
        ")"
      ],
      "metadata": {
        "colab": {
          "base_uri": "https://localhost:8080/"
        },
        "id": "9Y3U0k_jkHa1",
        "outputId": "99a34148-9619-4299-fb7b-7ee87c74282d"
      },
      "execution_count": 41,
      "outputs": [
        {
          "output_type": "stream",
          "name": "stdout",
          "text": [
            "Number of users: 610, Number of Movies: 9724, Min rating: 0.5, Max rating: 5.0\n"
          ]
        }
      ]
    },
    {
      "cell_type": "markdown",
      "source": [
        "<p>We then prepare the training and validation data by using <code>\"user\"</code>, <code>\"movie\"</code>, <code>min_rating</code> and <code>max_rating</code>. The data is split so that 90% of the data is used for training and 10% is used for validation.</p>"
      ],
      "metadata": {
        "id": "9A1Vnf1WkShb"
      }
    },
    {
      "cell_type": "code",
      "source": [
        "df = df.sample(frac=1, random_state=42)\n",
        "x = df[[\"user\", \"movie\"]].values\n",
        "# Normalize the targets between 0 and 1. Makes it easy to train.\n",
        "y = df[\"rating\"].apply(lambda x: (x - min_rating) / (max_rating - min_rating)).values\n",
        "# Assuming training on 90% of the data and validating on 10%.\n",
        "train_indices = int(0.9 * df.shape[0])\n",
        "x_train, x_val, y_train, y_val = (\n",
        "    x[:train_indices],\n",
        "    x[train_indices:],\n",
        "    y[:train_indices],\n",
        "    y[train_indices:],\n",
        ")"
      ],
      "metadata": {
        "id": "nyoZvZqGkQgI"
      },
      "execution_count": 42,
      "outputs": []
    },
    {
      "cell_type": "markdown",
      "source": [
        "<p>Now we create the model. We embed both users and movies into 50-dimensional vectors.</p>\n",
        "\n",
        "<p>The model computes a match score between user and movie embeddings via a dot product, and adds a per-movie and per-user bias. The match score is scaled to the [0, 1] interval via a sigmoid (since our ratings are normalized to this range).</p>\n",
        "\n",
        "<p>We are using an <code>Embedding</code> layer instead of a single <code>Dense</code> hidden layer because <code>Embedding</code> layers work well with sparse data (e.g. where users have not rated most movies in the dataset).</p>\n",
        "\n",
        "<code>Embedding</code> layer turns positive integers (indexes) into dense vectors of fixed size. \n",
        "<ul>\n",
        "  <li><code>input_dim</code> is an integer that represents the size of the vocabulary. We use <code>num_users</code> and <code>num_movies</code>.</li>\n",
        "  <li><code>output_dim</code> is an integer that represents the dimension of the dense embedding. We use <code>embedding_size</code>.</li>\n",
        "  <li><code>embeddings_initializer</code> is the regularizer function applied to the embeddings matrix. We use <code>\"he_normal\"</code> initializer. It draws samples from a truncated normal distribution centered on 0 with <code>stddev = sqrt(2 / fan_in)</code> where <code>fan_in</code> is the number of input units in the weight tensor.</li>\n",
        "  <li><code>embeddings_regularizer</code> is the constraint function applied to the embeddings matrix. We use <code>keras.regularizers.l2(1e-6)</code></li>\n",
        "</ul>"
      ],
      "metadata": {
        "id": "_101bbDMkdnk"
      }
    },
    {
      "cell_type": "code",
      "source": [
        "EMBEDDING_SIZE = 50\n",
        "\n",
        "class RecommenderNet(keras.Model):\n",
        "    def __init__(self, num_users, num_movies, embedding_size, **kwargs):\n",
        "        super(RecommenderNet, self).__init__(**kwargs)\n",
        "        self.num_users = num_users\n",
        "        self.num_movies = num_movies\n",
        "        self.embedding_size = embedding_size\n",
        "        self.user_embedding = layers.Embedding(\n",
        "            num_users,\n",
        "            embedding_size,\n",
        "            embeddings_initializer=\"he_normal\",\n",
        "            embeddings_regularizer=keras.regularizers.l2(1e-6),\n",
        "        )\n",
        "        self.user_bias = layers.Embedding(num_users, 1)\n",
        "        self.movie_embedding = layers.Embedding(\n",
        "            num_movies,\n",
        "            embedding_size,\n",
        "            embeddings_initializer=\"he_normal\",\n",
        "            embeddings_regularizer=keras.regularizers.l2(1e-6),\n",
        "        )\n",
        "        self.movie_bias = layers.Embedding(num_movies, 1)\n",
        "\n",
        "    def call(self, inputs):\n",
        "        user_vector = self.user_embedding(inputs[:, 0])\n",
        "        user_bias = self.user_bias(inputs[:, 0])\n",
        "        movie_vector = self.movie_embedding(inputs[:, 1])\n",
        "        movie_bias = self.movie_bias(inputs[:, 1])\n",
        "        dot_user_movie = tf.tensordot(user_vector, movie_vector, 2)\n",
        "        # Add all the components (including bias)\n",
        "        x = dot_user_movie + user_bias + movie_bias\n",
        "        # The sigmoid activation forces the rating to between 0 and 1\n",
        "        return tf.nn.sigmoid(x)\n",
        "\n",
        "\n",
        "first_model = RecommenderNet(num_users, num_movies, EMBEDDING_SIZE)\n",
        "first_model.compile(\n",
        "    loss=tf.keras.losses.BinaryCrossentropy(), optimizer=keras.optimizers.Adam(lr=0.001)\n",
        ")"
      ],
      "metadata": {
        "colab": {
          "base_uri": "https://localhost:8080/"
        },
        "id": "U4cP5EUokXGf",
        "outputId": "1c945698-4c85-4efb-9ad2-e4a2e9f5723e"
      },
      "execution_count": 43,
      "outputs": [
        {
          "output_type": "stream",
          "name": "stderr",
          "text": [
            "/usr/local/lib/python3.7/dist-packages/keras/optimizer_v2/adam.py:105: UserWarning: The `lr` argument is deprecated, use `learning_rate` instead.\n",
            "  super(Adam, self).__init__(name, **kwargs)\n"
          ]
        }
      ]
    },
    {
      "cell_type": "markdown",
      "source": [
        "<p>Now we fit the model to our dataset. We used a batch size of 64, 5 epochs, and a verbosity of 1 to visualize <code>loss</code> and <code>val_loss</code>. After training, we achieve a <code>loss</code> of 0.6071 and a <code>val_loss</code> of 0.6129.</p>"
      ],
      "metadata": {
        "id": "VXnLbaMSktox"
      }
    },
    {
      "cell_type": "code",
      "source": [
        "history = first_model.fit(\n",
        "    x=x_train,\n",
        "    y=y_train,\n",
        "    batch_size=64,\n",
        "    epochs=5,\n",
        "    verbose=1,\n",
        "    validation_data=(x_val, y_val),\n",
        ")"
      ],
      "metadata": {
        "colab": {
          "base_uri": "https://localhost:8080/"
        },
        "id": "qI44E4LSkcVo",
        "outputId": "78c31737-59a4-47d0-dda8-8606bcaf0a6c"
      },
      "execution_count": 44,
      "outputs": [
        {
          "output_type": "stream",
          "name": "stdout",
          "text": [
            "Epoch 1/5\n",
            "1418/1418 [==============================] - 8s 5ms/step - loss: 0.6360 - val_loss: 0.6206\n",
            "Epoch 2/5\n",
            "1418/1418 [==============================] - 5s 3ms/step - loss: 0.6132 - val_loss: 0.6187\n",
            "Epoch 3/5\n",
            "1418/1418 [==============================] - 5s 3ms/step - loss: 0.6085 - val_loss: 0.6136\n",
            "Epoch 4/5\n",
            "1418/1418 [==============================] - 4s 3ms/step - loss: 0.6076 - val_loss: 0.6175\n",
            "Epoch 5/5\n",
            "1418/1418 [==============================] - 4s 3ms/step - loss: 0.6068 - val_loss: 0.6152\n"
          ]
        }
      ]
    },
    {
      "cell_type": "markdown",
      "source": [
        "<p>We plot the training and validation loss to visualize the training process.</p>"
      ],
      "metadata": {
        "id": "PY14I6Jvk10A"
      }
    },
    {
      "cell_type": "code",
      "source": [
        "plt.plot(history.history[\"loss\"])\n",
        "plt.plot(history.history[\"val_loss\"])\n",
        "plt.title(\"model loss\")\n",
        "plt.ylabel(\"loss\")\n",
        "plt.xlabel(\"epoch\")\n",
        "plt.legend([\"train\", \"test\"], loc=\"upper left\")\n",
        "plt.show()"
      ],
      "metadata": {
        "id": "4GECJpdskzxa",
        "colab": {
          "base_uri": "https://localhost:8080/",
          "height": 295
        },
        "outputId": "14492684-24b8-48fc-dc7b-95f3d59c111e"
      },
      "execution_count": 45,
      "outputs": [
        {
          "output_type": "display_data",
          "data": {
            "text/plain": [
              "<Figure size 432x288 with 1 Axes>"
            ],
            "image/png": "[encoded data removed]"
          },
          "metadata": {
            "needs_background": "light"
          }
        }
      ]
    },
    {
      "cell_type": "markdown",
      "source": [
        "<p>Now we create a function called <code>showRecommendationsUser()</code> to show the top 10 movie recommendations for a given user. The input parameters are a recommender model and the specified <code>user_id</code> from the <code>df</code> Dataframe.</p>"
      ],
      "metadata": {
        "id": "j9AlMuIrmCQV"
      }
    },
    {
      "cell_type": "code",
      "source": [
        "def showRecommendationsUser(model, user_id= df.userId.sample(1).iloc[0]):\n",
        "  movie_df = pd.read_csv(movielens_dir / \"movies.csv\")\n",
        "# Let us get a user and see the top recommendations.\n",
        "  movies_watched_by_user = df[df.userId == user_id]\n",
        "  movies_not_watched = movie_df[\n",
        "      ~movie_df[\"movieId\"].isin(movies_watched_by_user.movieId.values)\n",
        "  ][\"movieId\"]\n",
        "  movies_not_watched = list(\n",
        "      set(movies_not_watched).intersection(set(movie2movie_encoded.keys()))\n",
        "  )\n",
        "  movies_not_watched = [[movie2movie_encoded.get(x)] for x in movies_not_watched]\n",
        "  user_encoder = user2user_encoded.get(user_id)\n",
        "  user_movie_array = np.hstack(\n",
        "      ([[user_encoder]] * len(movies_not_watched), movies_not_watched)\n",
        "  )\n",
        "  ratings = model.predict(user_movie_array).flatten()\n",
        "  top_ratings_indices = ratings.argsort()[-10:][::-1]\n",
        "  recommended_movie_ids = [\n",
        "      movie_encoded2movie.get(movies_not_watched[x][0]) for x in top_ratings_indices\n",
        "  ]\n",
        "  print(\"Showing recommendations for user: {}\".format(user_id))\n",
        "  print(\"====\" * 9)\n",
        "  print(\"Movies with high ratings from user\")\n",
        "  print(\"----\" * 8)\n",
        "  top_movies_user = (\n",
        "      movies_watched_by_user.sort_values(by=\"rating\", ascending=False)\n",
        "      .head(5)\n",
        "      .movieId.values\n",
        "  )\n",
        "  movie_df_rows = movie_df[movie_df[\"movieId\"].isin(top_movies_user)]\n",
        "  for row in movie_df_rows.itertuples():\n",
        "      print(row.title, \":\", row.genres)\n",
        "  print(\"----\" * 8)\n",
        "  print(\"Top 10 movie recommendations\")\n",
        "  print(\"----\" * 8)\n",
        "  recommended_movies = movie_df[movie_df[\"movieId\"].isin(recommended_movie_ids)]\n",
        "  for row in recommended_movies.itertuples():\n",
        "      print(row.title, \":\", row.genres)"
      ],
      "metadata": {
        "id": "gTtNeWMhmA4s"
      },
      "execution_count": 46,
      "outputs": []
    },
    {
      "cell_type": "markdown",
      "source": [
        "<p>Using our function, we show the top 10 movie recommendations for <code>user_id</code> 420 generated by our first recommender model.</p>"
      ],
      "metadata": {
        "id": "fXfo39KLKhJS"
      }
    },
    {
      "cell_type": "code",
      "source": [
        "showRecommendationsUser(model= first_model, user_id= 420)"
      ],
      "metadata": {
        "colab": {
          "base_uri": "https://localhost:8080/"
        },
        "id": "4rsh2Y_kZYBc",
        "outputId": "b0351110-b27b-439e-9235-73759a6f3eea"
      },
      "execution_count": 47,
      "outputs": [
        {
          "output_type": "stream",
          "name": "stdout",
          "text": [
            "Showing recommendations for user: 420\n",
            "====================================\n",
            "Movies with high ratings from user\n",
            "--------------------------------\n",
            "Singin' in the Rain (1952) : Comedy|Musical|Romance\n",
            "Some Like It Hot (1959) : Comedy|Crime\n",
            "Monty Python and the Holy Grail (1975) : Adventure|Comedy|Fantasy\n",
            "Rocky Horror Picture Show, The (1975) : Comedy|Horror|Musical|Sci-Fi\n",
            "Super Size Me (2004) : Comedy|Documentary|Drama\n",
            "--------------------------------\n",
            "Top 10 movie recommendations\n",
            "--------------------------------\n",
            "Rear Window (1954) : Mystery|Thriller\n",
            "North by Northwest (1959) : Action|Adventure|Mystery|Romance|Thriller\n",
            "Casablanca (1942) : Drama|Romance\n",
            "Maltese Falcon, The (1941) : Film-Noir|Mystery\n",
            "Sunset Blvd. (a.k.a. Sunset Boulevard) (1950) : Drama|Film-Noir|Romance\n",
            "Star Wars: Episode V - The Empire Strikes Back (1980) : Action|Adventure|Sci-Fi\n",
            "Princess Bride, The (1987) : Action|Adventure|Comedy|Fantasy|Romance\n",
            "Goodfellas (1990) : Crime|Drama\n",
            "Godfather: Part II, The (1974) : Crime|Drama\n",
            "Memento (2000) : Mystery|Thriller\n"
          ]
        }
      ]
    },
    {
      "cell_type": "markdown",
      "source": [
        "<h1>Experiment 2</h1>\n",
        "\n",
        "<p>Now, inside of a function <code>showRecommendationsTJ()</code>, we create a feature vector for one member of our team, Timothy Jan. We pick some movies, assign a rating to each of them, and create a new Dataframe. It is then used to generate 10 movie recommendations using the recommender model passed by the input <code>model</code>.</p>"
      ],
      "metadata": {
        "id": "U4sdnup1jBwR"
      }
    },
    {
      "cell_type": "code",
      "source": [
        "def showRecommendationsTJ(model):\n",
        "  tj_movie_ID = [121231, 122900, 122902, 122904, 122906, 122912, 122916, 122918, 122920, 122922, 125916, 128360, 131739, 134130, 134853, 140715, 140956, 159858, 161354, 161594, 162082, 163645, 164367, 166024, 166528, 167370, 168248, 168252, 168366, 174053, 174055, 176101, 177285, 177593, 177763, 177765, 179401, 179819, 180031, 180985, 182715, 183635, 184471, 185029, 185135, 185585, 187031, 187593, 189713, 188189, ]\n",
        "  tj_movie_ratings = [2.5, 3.5, 2.5, 3.75, 4.25, 4.25, 4.25, 3.5, 3.75, 3.25, 1.5, 4, 3.75, 4, 3.5, 3.75, 4, 3.75, 3.75, 4.25, 4.5, 4.25, 4.5, 4, 3.75, 0.5, 4.25, 3.5, 2, 4, 2.5, 3, 3.25, 4, 4, 3.5, 3, 3, 4.25, 3, 4, 2, 2.5, 4.5, 4.25, 4, 2.5, 3.5, 3.5, 4.5, ]\n",
        "  tj_dict = {'movieId': tj_movie_ID, 'rating':tj_movie_ratings}\n",
        "  movies_watched_by_tj = pd.DataFrame(tj_dict)\n",
        "  movie_df = pd.read_csv(movielens_dir / \"movies.csv\")\n",
        "\n",
        "  movies_not_watched_by_tj = movie_df[\n",
        "      ~movie_df[\"movieId\"].isin(movies_watched_by_tj.movieId.values)\n",
        "  ][\"movieId\"]\n",
        "  movies_not_watched_by_tj = list(\n",
        "      set(movies_not_watched_by_tj).intersection(set(movie2movie_encoded.keys()))\n",
        "  )\n",
        "  movies_not_watched_by_tj = [[movie2movie_encoded.get(x)] for x in movies_not_watched_by_tj]\n",
        "  user_encoder = 609 #must be in range, does not affect prediction. tested\n",
        "  user_movie_array = np.hstack(\n",
        "      ([[user_encoder]] * len(movies_not_watched_by_tj), movies_not_watched_by_tj)\n",
        "  )\n",
        "  ratings = model.predict(user_movie_array).flatten()\n",
        "  top_ratings_indices = ratings.argsort()[-10:][::-1]\n",
        "  recommended_movie_ids = [\n",
        "      movie_encoded2movie.get(movies_not_watched_by_tj[x][0]) for x in top_ratings_indices\n",
        "  ]\n",
        "  print(\"Showing recommendations for user: TJ\")\n",
        "  print(\"====\" * 9)\n",
        "  print(\"Movies with high ratings from user\")\n",
        "  print(\"----\" * 8)\n",
        "  top_movies_user = (\n",
        "      movies_watched_by_tj.sort_values(by=\"rating\", ascending=False)\n",
        "      .head(5)\n",
        "      .movieId.values\n",
        "  )\n",
        "  movie_df_rows = movie_df[movie_df[\"movieId\"].isin(top_movies_user)]\n",
        "  for row in movie_df_rows.itertuples():\n",
        "      print(row.title, \":\", row.genres)\n",
        "  print(\"----\" * 8)\n",
        "  print(\"Top 10 movie recommendations\")\n",
        "  print(\"----\" * 8)\n",
        "  recommended_movies = movie_df[movie_df[\"movieId\"].isin(recommended_movie_ids)]\n",
        "  for row in recommended_movies.itertuples():\n",
        "      print(row.title, \":\", row.genres)"
      ],
      "metadata": {
        "id": "diNgP--h9RlS"
      },
      "execution_count": 48,
      "outputs": []
    },
    {
      "cell_type": "markdown",
      "source": [
        "<p>Using our function, we show the top 10 movie recommendations for our team member generated by our first recommender model.</p>"
      ],
      "metadata": {
        "id": "_NRpuc6vlUYP"
      }
    },
    {
      "cell_type": "code",
      "source": [
        "showRecommendationsTJ(first_model)"
      ],
      "metadata": {
        "colab": {
          "base_uri": "https://localhost:8080/"
        },
        "id": "3Z2ySvqJZ0zu",
        "outputId": "962f04c9-b63d-405b-955b-d49308ce64a7"
      },
      "execution_count": 49,
      "outputs": [
        {
          "output_type": "stream",
          "name": "stdout",
          "text": [
            "Showing recommendations for user: TJ\n",
            "====================================\n",
            "Movies with high ratings from user\n",
            "--------------------------------\n",
            "Kingsglaive: Final Fantasy XV (2016) : Action|Adventure|Animation|Drama|Fantasy|Sci-Fi\n",
            "Train to Busan (2016) : Action|Thriller\n",
            "The Girl with All the Gifts (2016) : Drama|Horror|Sci-Fi|Thriller\n",
            "A Quiet Place (2018) : Drama|Horror|Thriller\n",
            "Sorry to Bother You (2018) : Comedy|Fantasy|Sci-Fi\n",
            "--------------------------------\n",
            "Top 10 movie recommendations\n",
            "--------------------------------\n",
            "Usual Suspects, The (1995) : Crime|Mystery|Thriller\n",
            "One Flew Over the Cuckoo's Nest (1975) : Drama\n",
            "Star Wars: Episode V - The Empire Strikes Back (1980) : Action|Adventure|Sci-Fi\n",
            "Princess Bride, The (1987) : Action|Adventure|Comedy|Fantasy|Romance\n",
            "Raiders of the Lost Ark (Indiana Jones and the Raiders of the Lost Ark) (1981) : Action|Adventure\n",
            "Good, the Bad and the Ugly, The (Buono, il brutto, il cattivo, Il) (1966) : Action|Adventure|Western\n",
            "12 Angry Men (1957) : Drama\n",
            "Lawrence of Arabia (1962) : Adventure|Drama|War\n",
            "Goodfellas (1990) : Crime|Drama\n",
            "Godfather: Part II, The (1974) : Crime|Drama\n"
          ]
        }
      ]
    },
    {
      "cell_type": "markdown",
      "source": [
        "<p>The results showed good recommendations and were similar to the highest-rated movies for the user.</p>"
      ],
      "metadata": {
        "id": "aAodtZHep6Jz"
      }
    },
    {
      "cell_type": "markdown",
      "source": [
        "<h1>Experiment 3</h1>\n",
        "\n",
        "<p>To improve our results, we replaced the dot product with two hidden <code>Dense</code> layers in our recommender model. The first layer has 100 units, the second 50 units, and both are using the <code>relu</code> activation function.  We compiled the model using the <code>BinaryCrossentropy</code> loss function and the <code>Adam</code> optimizer with a learning rate of 0.001.</p>\n",
        "\n",
        "\n",
        "\n"
      ],
      "metadata": {
        "id": "crg2CyxVi9hk"
      }
    },
    {
      "cell_type": "code",
      "source": [
        "EMBEDDING_SIZE = 50\n",
        "\n",
        "class improvedRecommender(keras.Model):\n",
        "    def __init__(self, num_users, num_movies, embedding_size, **kwargs):\n",
        "        super(improvedRecommender, self).__init__(**kwargs)\n",
        "        self.num_users = num_users\n",
        "        self.num_movies = num_movies\n",
        "        self.embedding_size = embedding_size\n",
        "        self.user_embedding = layers.Embedding(\n",
        "            num_users,\n",
        "            embedding_size,\n",
        "            embeddings_initializer=\"he_normal\",\n",
        "            embeddings_regularizer=keras.regularizers.l2(1e-6),\n",
        "        )\n",
        "        self.user_bias = layers.Embedding(num_users, 1)\n",
        "        self.movie_embedding = layers.Embedding(\n",
        "            num_movies,\n",
        "            embedding_size,\n",
        "            embeddings_initializer=\"he_normal\",\n",
        "            embeddings_regularizer=keras.regularizers.l2(1e-6),\n",
        "        )\n",
        "        self.movie_bias = layers.Embedding(num_movies, 1)\n",
        "        self.user_movie_relationship1 = tf.keras.layers.Dense(100, activation= \"relu\")# use_bias= False)#, input_shape = (64,)\n",
        "        self.user_movie_relationship2 = tf.keras.layers.Dense(50, activation= \"relu\")# use_bias= False)#, input_shape = (64,)\n",
        "        self.output_layer = tf.keras.layers.Dense(1, activation= \"sigmoid\", input_shape= (50,))#, use_biase=False)\n",
        "\n",
        "    def call(self, inputs):\n",
        "        user_vector = self.user_embedding(inputs[:, 0])\n",
        "        user_bias = self.user_bias(inputs[:, 0])\n",
        "        movie_vector = self.movie_embedding(inputs[:, 1])\n",
        "        movie_bias = self.movie_bias(inputs[:, 1])\n",
        "        \n",
        "        concat_inputs = tf.concat([user_vector, movie_vector], 1)\n",
        "        concat_bias = user_bias + movie_bias\n",
        "        response = self.user_movie_relationship1(concat_inputs)\n",
        "        response = self.user_movie_relationship2(response)\n",
        "        response = response + concat_bias\n",
        "        response = self.output_layer(response)\n",
        "        return response\n",
        "\n",
        "\n",
        "new_model = improvedRecommender(num_users, num_movies, EMBEDDING_SIZE)\n",
        "new_model.compile(\n",
        "    loss=tf.keras.losses.BinaryCrossentropy(), optimizer=keras.optimizers.Adam(lr=0.001)\n",
        ")"
      ],
      "metadata": {
        "id": "gFcxvVMiZKEw",
        "colab": {
          "base_uri": "https://localhost:8080/"
        },
        "outputId": "b490ba38-81c1-4515-c19d-7c8468ca44ce"
      },
      "execution_count": 50,
      "outputs": [
        {
          "output_type": "stream",
          "name": "stderr",
          "text": [
            "/usr/local/lib/python3.7/dist-packages/keras/optimizer_v2/adam.py:105: UserWarning: The `lr` argument is deprecated, use `learning_rate` instead.\n",
            "  super(Adam, self).__init__(name, **kwargs)\n"
          ]
        }
      ]
    },
    {
      "cell_type": "markdown",
      "source": [
        "<p>We fit the new model to our dataset. We used a batch size of 64, 5 epochs, and a verbosity of 1. After training, we achieve a <code>loss</code> of 0.5600 and a <code>val_loss</code> of 0.6109, which is an improvement over our first model.</p>"
      ],
      "metadata": {
        "id": "N2R36mOcqUH_"
      }
    },
    {
      "cell_type": "code",
      "source": [
        "history = new_model.fit(\n",
        "    x=x_train,\n",
        "    y=y_train,\n",
        "    batch_size=64,\n",
        "    epochs=5,\n",
        "    verbose=1,\n",
        "    validation_data=(x_val, y_val),\n",
        ")"
      ],
      "metadata": {
        "id": "BlG9IdSVvcVn",
        "colab": {
          "base_uri": "https://localhost:8080/"
        },
        "outputId": "cfef64e9-017b-4293-dd0a-43ef99ced422"
      },
      "execution_count": 51,
      "outputs": [
        {
          "output_type": "stream",
          "name": "stdout",
          "text": [
            "Epoch 1/5\n",
            "1418/1418 [==============================] - 5s 3ms/step - loss: 0.6051 - val_loss: 0.6015\n",
            "Epoch 2/5\n",
            "1418/1418 [==============================] - 5s 3ms/step - loss: 0.5900 - val_loss: 0.6007\n",
            "Epoch 3/5\n",
            "1418/1418 [==============================] - 5s 3ms/step - loss: 0.5813 - val_loss: 0.6028\n",
            "Epoch 4/5\n",
            "1418/1418 [==============================] - 5s 3ms/step - loss: 0.5708 - val_loss: 0.6088\n",
            "Epoch 5/5\n",
            "1418/1418 [==============================] - 5s 3ms/step - loss: 0.5610 - val_loss: 0.6130\n"
          ]
        }
      ]
    },
    {
      "cell_type": "markdown",
      "source": [
        "<h1>Experiment 4</h1>\n",
        "\n",
        "<p>Now we call our functions using our new recommender model and the same users.</p>"
      ],
      "metadata": {
        "id": "4O8JC2ss3jYm"
      }
    },
    {
      "cell_type": "code",
      "source": [
        "showRecommendationsUser(model= new_model, user_id= 420)"
      ],
      "metadata": {
        "id": "x6AdaniTvdmF",
        "colab": {
          "base_uri": "https://localhost:8080/"
        },
        "outputId": "d8116be5-8815-4a7a-a941-3a870d23f136"
      },
      "execution_count": 52,
      "outputs": [
        {
          "output_type": "stream",
          "name": "stdout",
          "text": [
            "Showing recommendations for user: 420\n",
            "====================================\n",
            "Movies with high ratings from user\n",
            "--------------------------------\n",
            "Singin' in the Rain (1952) : Comedy|Musical|Romance\n",
            "Some Like It Hot (1959) : Comedy|Crime\n",
            "Monty Python and the Holy Grail (1975) : Adventure|Comedy|Fantasy\n",
            "Rocky Horror Picture Show, The (1975) : Comedy|Horror|Musical|Sci-Fi\n",
            "Super Size Me (2004) : Comedy|Documentary|Drama\n",
            "--------------------------------\n",
            "Top 10 movie recommendations\n",
            "--------------------------------\n",
            "Casablanca (1942) : Drama|Romance\n",
            "Sunset Blvd. (a.k.a. Sunset Boulevard) (1950) : Drama|Film-Noir|Romance\n",
            "Man for All Seasons, A (1966) : Drama\n",
            "Doctor Zhivago (1965) : Drama|Romance|War\n",
            "Lifeboat (1944) : Drama|War\n",
            "Yojimbo (1961) : Action|Adventure\n",
            "Man Bites Dog (C'est arrivé près de chez vous) (1992) : Comedy|Crime|Drama|Thriller\n",
            "Guess Who's Coming to Dinner (1967) : Drama\n",
            "Trial, The (Procès, Le) (1962) : Drama\n",
            "Infernal Affairs (Mou gaan dou) (2002) : Crime|Drama|Thriller\n"
          ]
        }
      ]
    },
    {
      "cell_type": "code",
      "source": [
        "showRecommendationsTJ(new_model)"
      ],
      "metadata": {
        "colab": {
          "base_uri": "https://localhost:8080/"
        },
        "id": "sgSxUQUN3XgK",
        "outputId": "fff3dba6-5c85-4412-a1e8-7c150f9f17e8"
      },
      "execution_count": 53,
      "outputs": [
        {
          "output_type": "stream",
          "name": "stdout",
          "text": [
            "Showing recommendations for user: TJ\n",
            "====================================\n",
            "Movies with high ratings from user\n",
            "--------------------------------\n",
            "Kingsglaive: Final Fantasy XV (2016) : Action|Adventure|Animation|Drama|Fantasy|Sci-Fi\n",
            "Train to Busan (2016) : Action|Thriller\n",
            "The Girl with All the Gifts (2016) : Drama|Horror|Sci-Fi|Thriller\n",
            "A Quiet Place (2018) : Drama|Horror|Thriller\n",
            "Sorry to Bother You (2018) : Comedy|Fantasy|Sci-Fi\n",
            "--------------------------------\n",
            "Top 10 movie recommendations\n",
            "--------------------------------\n",
            "Godfather, The (1972) : Crime|Drama\n",
            "Paths of Glory (1957) : Drama|War\n",
            "Apocalypse Now (1979) : Action|Drama|War\n",
            "Touch of Evil (1958) : Crime|Film-Noir|Thriller\n",
            "Chinatown (1974) : Crime|Film-Noir|Mystery|Thriller\n",
            "Jules and Jim (Jules et Jim) (1961) : Drama|Romance\n",
            "Man Bites Dog (C'est arrivé près de chez vous) (1992) : Comedy|Crime|Drama|Thriller\n",
            "Rififi (Du rififi chez les hommes) (1955) : Crime|Film-Noir|Thriller\n",
            "Dog Soldiers (2002) : Action|Horror\n",
            "Trial, The (Procès, Le) (1962) : Drama\n"
          ]
        }
      ]
    },
    {
      "cell_type": "markdown",
      "source": [
        "For the purpose of estimating the quality of the recommendations, Tim excluded some of his favorite movies from his feature vector.\n",
        "\n",
        "A handful of Tim's favorite movies that he neglected to add/rate are consistently in the top 5 recommendations. However, the overall quality of the recommendations are worse.  The previous model consistently recommended atleast 8 movies Tim enjoys."
      ],
      "metadata": {
        "id": "UJDlH1LKdEIT"
      }
    },
    {
      "cell_type": "markdown",
      "source": [
        "<h1>Experiment 5</h1>\n",
        "\n",
        "\n",
        "<p>To improve our results farther, we added a custom <code>Sampling</code> layer in our model. After encoding our inputs in the <code>Embedding</code> layers, we invoke the <code>Sampling</code> layer. We removed the first hidden <code>Dense</code> layer with 100 units (using both layers was causing <b>mode collapse</b>) and only kept the second <code>Dense</code> with 50 units,  using the <code>relu</code> activation function.  We compiled the model using the <code>BinaryCrossentropy</code> loss function and the <code>Adam</code> optimizer with a learning rate of 0.001.</p>"
      ],
      "metadata": {
        "id": "ce_TCYHcder9"
      }
    },
    {
      "cell_type": "code",
      "source": [
        "EMBEDDING_SIZE = 50\n",
        "\n",
        "class Sampling(layers.Layer):\n",
        "    \"\"\"Uses (z_mean, z_log_var) to sample z, the vector encoding the embedded user-movie inputs.\"\"\"\n",
        "\n",
        "    def call(self, inputs):\n",
        "        z_mean, z_log_var = inputs\n",
        "        batch = tf.shape(z_mean)[0]\n",
        "        dim = tf.shape(z_mean)[1]\n",
        "        epsilon = tf.keras.backend.random_normal(shape=(batch, dim))\n",
        "        return z_mean + tf.exp(0.5 * z_log_var) * epsilon\n",
        "\n",
        "class improvedRecommenderWithAutoEncoder(keras.Model):\n",
        "    def __init__(self, num_users, num_movies, embedding_size, **kwargs):\n",
        "        super(improvedRecommenderWithAutoEncoder, self).__init__(**kwargs)\n",
        "        self.num_users = num_users\n",
        "        self.num_movies = num_movies\n",
        "        self.embedding_size = embedding_size\n",
        "        self.user_embedding = layers.Embedding(\n",
        "            num_users,\n",
        "            embedding_size,\n",
        "            embeddings_initializer=\"he_normal\",\n",
        "            embeddings_regularizer=keras.regularizers.l2(1e-6),\n",
        "        )\n",
        "        self.user_bias = layers.Embedding(num_users, 1)\n",
        "        self.movie_embedding = layers.Embedding(\n",
        "            num_movies,\n",
        "            embedding_size,\n",
        "            embeddings_initializer=\"he_normal\",\n",
        "            embeddings_regularizer=keras.regularizers.l2(1e-6),\n",
        "        )\n",
        "        self.movie_bias = layers.Embedding(num_movies, 1)\n",
        "        self.user_movie_relationship1 = tf.keras.layers.Dense(50, activation= \"relu\")\n",
        "        #self.user_movie_relationship2 = tf.keras.layers.Dense(50, activation= \"relu\")\n",
        "        self.output_layer = tf.keras.layers.Dense(1, activation= \"sigmoid\", input_shape= (50,))\n",
        "\n",
        "        self.DenseSamplerZmean = tf.keras.layers.Dense(10, name=\"z_mean\")\n",
        "        self.DenseSamplerZlogvar = tf.keras.layers.Dense(10, name=\"z_log_var\")\n",
        "        self.Sampling = Sampling()\n",
        "\n",
        "    def call(self, inputs):\n",
        "        user_vector = self.user_embedding(inputs[:, 0])\n",
        "        user_bias = self.user_bias(inputs[:, 0])\n",
        "        movie_vector = self.movie_embedding(inputs[:, 1])\n",
        "        movie_bias = self.movie_bias(inputs[:, 1])\n",
        "        \n",
        "        concat_inputs = tf.concat([user_vector, movie_vector], 1)\n",
        "        concat_bias = user_bias + movie_bias\n",
        "        \n",
        "        z_mean = self.DenseSamplerZmean(concat_inputs)\n",
        "        z_log_var = self.DenseSamplerZlogvar(concat_inputs)\n",
        "        response = self.Sampling([z_mean, z_log_var])\n",
        "\n",
        "        #response = self.user_movie_relationship1(concat_inputs)\n",
        "        response = self.user_movie_relationship1(response)\n",
        "        #response = self.user_movie_relationship2(response)\n",
        "        response = response + concat_bias\n",
        "        response = self.output_layer(response)\n",
        "        return response\n",
        "    \n",
        "\n",
        "final_model = improvedRecommenderWithAutoEncoder(num_users, num_movies, EMBEDDING_SIZE)\n",
        "final_model.compile(\n",
        "    loss=tf.keras.losses.BinaryCrossentropy(), optimizer=keras.optimizers.Adam(lr=0.001)\n",
        ")"
      ],
      "metadata": {
        "colab": {
          "base_uri": "https://localhost:8080/"
        },
        "id": "H7L0dRBudNdr",
        "outputId": "59fa1b1d-76c1-46b2-c14b-9dcdc9fd8358"
      },
      "execution_count": 54,
      "outputs": [
        {
          "output_type": "stream",
          "name": "stderr",
          "text": [
            "/usr/local/lib/python3.7/dist-packages/keras/optimizer_v2/adam.py:105: UserWarning: The `lr` argument is deprecated, use `learning_rate` instead.\n",
            "  super(Adam, self).__init__(name, **kwargs)\n"
          ]
        }
      ]
    },
    {
      "cell_type": "code",
      "source": [
        "history = final_model.fit(\n",
        "    x=x_train,\n",
        "    y=y_train,\n",
        "    batch_size=64,\n",
        "    epochs=5,\n",
        "    verbose=1,\n",
        "    validation_data=(x_val, y_val),\n",
        ")"
      ],
      "metadata": {
        "colab": {
          "base_uri": "https://localhost:8080/"
        },
        "id": "qRhsDojrdVFD",
        "outputId": "80ed9b98-33e7-46a5-cf2a-0f26018bf0db"
      },
      "execution_count": 55,
      "outputs": [
        {
          "output_type": "stream",
          "name": "stdout",
          "text": [
            "Epoch 1/5\n",
            "1418/1418 [==============================] - 6s 4ms/step - loss: 0.6141 - val_loss: 0.6061\n",
            "Epoch 2/5\n",
            "1418/1418 [==============================] - 5s 3ms/step - loss: 0.5967 - val_loss: 0.6033\n",
            "Epoch 3/5\n",
            "1418/1418 [==============================] - 5s 3ms/step - loss: 0.5925 - val_loss: 0.6022\n",
            "Epoch 4/5\n",
            "1418/1418 [==============================] - 5s 4ms/step - loss: 0.5896 - val_loss: 0.6016\n",
            "Epoch 5/5\n",
            "1418/1418 [==============================] - 6s 4ms/step - loss: 0.5870 - val_loss: 0.6028\n"
          ]
        }
      ]
    },
    {
      "cell_type": "code",
      "source": [
        "showRecommendationsUser(model= final_model, user_id= 420)"
      ],
      "metadata": {
        "colab": {
          "base_uri": "https://localhost:8080/"
        },
        "id": "XAOSQCR5darC",
        "outputId": "9b401fb7-e0a6-4801-ffb9-ee698ff000a6"
      },
      "execution_count": 56,
      "outputs": [
        {
          "output_type": "stream",
          "name": "stdout",
          "text": [
            "Showing recommendations for user: 420\n",
            "====================================\n",
            "Movies with high ratings from user\n",
            "--------------------------------\n",
            "Singin' in the Rain (1952) : Comedy|Musical|Romance\n",
            "Some Like It Hot (1959) : Comedy|Crime\n",
            "Monty Python and the Holy Grail (1975) : Adventure|Comedy|Fantasy\n",
            "Rocky Horror Picture Show, The (1975) : Comedy|Horror|Musical|Sci-Fi\n",
            "Super Size Me (2004) : Comedy|Documentary|Drama\n",
            "--------------------------------\n",
            "Top 10 movie recommendations\n",
            "--------------------------------\n",
            "Kolya (Kolja) (1996) : Comedy|Drama\n",
            "Lifeboat (1944) : Drama|War\n",
            "Yojimbo (1961) : Action|Adventure\n",
            "Five Easy Pieces (1970) : Drama\n",
            "Woman in the Dunes (Suna no onna) (1964) : Drama\n",
            "Trial, The (Procès, Le) (1962) : Drama\n",
            "Memories of Murder (Salinui chueok) (2003) : Crime|Drama|Mystery|Thriller\n",
            "Wild Parrots of Telegraph Hill, The (2003) : Documentary\n",
            "Band of Brothers (2001) : Action|Drama|War\n",
            "Three Billboards Outside Ebbing, Missouri (2017) : Crime|Drama\n"
          ]
        }
      ]
    },
    {
      "cell_type": "code",
      "source": [
        "showRecommendationsTJ(final_model)"
      ],
      "metadata": {
        "colab": {
          "base_uri": "https://localhost:8080/"
        },
        "id": "FDNGQk31dnC0",
        "outputId": "0942c42b-6054-4566-8a4f-661c6ee61022"
      },
      "execution_count": 57,
      "outputs": [
        {
          "output_type": "stream",
          "name": "stdout",
          "text": [
            "Showing recommendations for user: TJ\n",
            "====================================\n",
            "Movies with high ratings from user\n",
            "--------------------------------\n",
            "Kingsglaive: Final Fantasy XV (2016) : Action|Adventure|Animation|Drama|Fantasy|Sci-Fi\n",
            "Train to Busan (2016) : Action|Thriller\n",
            "The Girl with All the Gifts (2016) : Drama|Horror|Sci-Fi|Thriller\n",
            "A Quiet Place (2018) : Drama|Horror|Thriller\n",
            "Sorry to Bother You (2018) : Comedy|Fantasy|Sci-Fi\n",
            "--------------------------------\n",
            "Top 10 movie recommendations\n",
            "--------------------------------\n",
            "Shawshank Redemption, The (1994) : Crime|Drama\n",
            "Secrets & Lies (1996) : Drama\n",
            "Cinema Paradiso (Nuovo cinema Paradiso) (1989) : Drama\n",
            "Yojimbo (1961) : Action|Adventure\n",
            "Woman in the Dunes (Suna no onna) (1964) : Drama\n",
            "Guess Who's Coming to Dinner (1967) : Drama\n",
            "Adam's Rib (1949) : Comedy|Romance\n",
            "Day of the Doctor, The (2013) : Adventure|Drama|Sci-Fi\n",
            "Captain Fantastic (2016) : Drama\n",
            "Band of Brothers (2001) : Action|Drama|War\n"
          ]
        }
      ]
    },
    {
      "cell_type": "markdown",
      "source": [
        "The top 5 recommendations will usually have one of the movies Tim really likes that he purposefully neglected to add/rate. These correctly recommended movies include The Shawshank Redemption, Pulp Fiction, The Godfather, Star Wars, and A Clockwork Orange.\n",
        "\n",
        "Tim hasn't seen most of the other recommendations though, but judging by their IMDB pages and movie category, these are good recommendations.\n",
        "\n",
        "Overall, this model is outperforming the previous model.  The quality of these recommendations is on par with the original model's recommendations.\n"
      ],
      "metadata": {
        "id": "Eyjqt7tnXkWC"
      }
    }
  ]
}
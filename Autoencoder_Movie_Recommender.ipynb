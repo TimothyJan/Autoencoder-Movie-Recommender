{
  "nbformat": 4,
  "nbformat_minor": 0,
  "metadata": {
    "colab": {
      "name": "Project 5 - Autoencoder Movie Recommender.ipynb",
      "provenance": [],
      "collapsed_sections": [],
      "include_colab_link": true
    },
    "kernelspec": {
      "name": "python3",
      "display_name": "Python 3"
    },
    "language_info": {
      "name": "python"
    },
    "accelerator": "GPU"
  },
  "cells": [
    {
      "cell_type": "markdown",
      "metadata": {
        "id": "view-in-github",
        "colab_type": "text"
      },
      "source": [
        "<a href=\"https://colab.research.google.com/github/TimothyJan/Autoencoder-Movie-Recommender/blob/main/Autoencoder_Movie_Recommender.ipynb\" target=\"_parent\"><img src=\"https://colab.research.google.com/assets/colab-badge.svg\" alt=\"Open In Colab\"/></a>"
      ]
    },
    {
      "cell_type": "markdown",
      "source": [
        "Spring 2022 - CPSC 585-section-13883\n",
        "Project 5 - Autoencoder Movie Recommender\n",
        "Sean Javiya\n",
        "Timothy Jan\n",
        "Timothy Kheang\n",
        "\n",
        "In Project 5, we apply autoencoders to the task of making movie recommendations.\n",
        "\n",
        "Goals for this project are:\n",
        "<ul>\n",
        "  <li>Examining how autoencoders can be used for recommendation.</li>\n",
        "  <li>Understanding the connection between autoencoders and embedding.</li>\n",
        "  <li>Implementing basic, deep, and variational autoencoders.</li>\n",
        "  <li>Evaluating recommender performance.</li>\n",
        "</ul>"
      ],
      "metadata": {
        "id": "9V2TJ-DOiVzX"
      }
    },
    {
      "cell_type": "markdown",
      "source": [
        "\n",
        "We begin with the Keras example <a href=\"https://keras.io/examples/structured_data/collaborative_filtering_movielens/\">Collaborative Filtering for Movie Recommendations</a>. \n",
        "\n",
        "This example demonstrates <a href=\"https://en.wikipedia.org/wiki/Collaborative_filtering\">Collaborative filtering</a> using the <a href=\"https://www.kaggle.com/c/movielens-100k\">Movielens dataset</a> to recommend movies to users. The MovieLens ratings dataset lists the ratings given by a set of users to a set of movies. Our goal is to be able to predict ratings for movies a user has not yet watched. The movies with the highest predicted ratings can then be recommended to the user. "
      ],
      "metadata": {
        "id": "VvPj5B-Xi7oR"
      }
    },
    {
      "cell_type": "code",
      "execution_count": 1,
      "metadata": {
        "id": "LwHPiMxXgrzX"
      },
      "outputs": [],
      "source": [
        "import pandas as pd\n",
        "import numpy as np\n",
        "from zipfile import ZipFile\n",
        "import tensorflow as tf\n",
        "from tensorflow import keras\n",
        "from tensorflow.keras import layers\n",
        "from pathlib import Path\n",
        "import matplotlib.pyplot as plt"
      ]
    },
    {
      "cell_type": "markdown",
      "source": [
        "<h1>Load the data and apply preprocessing</h1>"
      ],
      "metadata": {
        "id": "UF9lUXi0j5_7"
      }
    },
    {
      "cell_type": "code",
      "source": [
        "# Download the actual data from http://files.grouplens.org/datasets/movielens/ml-latest-small.zip\"\n",
        "# Use the ratings.csv file\n",
        "movielens_data_file_url = (\n",
        "    \"http://files.grouplens.org/datasets/movielens/ml-latest-small.zip\"\n",
        ")\n",
        "movielens_zipped_file = keras.utils.get_file(\n",
        "    \"ml-latest-small.zip\", movielens_data_file_url, extract=False\n",
        ")\n",
        "keras_datasets_path = Path(movielens_zipped_file).parents[0]\n",
        "movielens_dir = keras_datasets_path / \"ml-latest-small\"\n",
        "\n",
        "# Only extract the data the first time the script is run.\n",
        "if not movielens_dir.exists():\n",
        "    with ZipFile(movielens_zipped_file, \"r\") as zip:\n",
        "        # Extract files\n",
        "        print(\"Extracting all the files now...\")\n",
        "        zip.extractall(path=keras_datasets_path)\n",
        "        print(\"Done!\")\n",
        "\n",
        "ratings_file = movielens_dir / \"ratings.csv\"\n",
        "df = pd.read_csv(ratings_file)"
      ],
      "metadata": {
        "id": "ng1PiosHj208",
        "colab": {
          "base_uri": "https://localhost:8080/"
        },
        "outputId": "b82ebc62-21a0-4742-f7d0-79e706d05604"
      },
      "execution_count": 2,
      "outputs": [
        {
          "output_type": "stream",
          "name": "stdout",
          "text": [
            "Downloading data from http://files.grouplens.org/datasets/movielens/ml-latest-small.zip\n",
            "983040/978202 [==============================] - 0s 0us/step\n",
            "991232/978202 [==============================] - 0s 0us/step\n",
            "Extracting all the files now...\n",
            "Done!\n"
          ]
        }
      ]
    },
    {
      "cell_type": "markdown",
      "source": [
        "Preprocessing to encode users and movies as integer indices."
      ],
      "metadata": {
        "id": "zbRv2Tm4kJ6l"
      }
    },
    {
      "cell_type": "code",
      "source": [
        "user_ids = df[\"userId\"].unique().tolist()\n",
        "user2user_encoded = {x: i for i, x in enumerate(user_ids)}\n",
        "userencoded2user = {i: x for i, x in enumerate(user_ids)}\n",
        "movie_ids = df[\"movieId\"].unique().tolist()\n",
        "movie2movie_encoded = {x: i for i, x in enumerate(movie_ids)}\n",
        "movie_encoded2movie = {i: x for i, x in enumerate(movie_ids)}\n",
        "df[\"user\"] = df[\"userId\"].map(user2user_encoded)\n",
        "df[\"movie\"] = df[\"movieId\"].map(movie2movie_encoded)\n",
        "\n",
        "num_users = len(user2user_encoded)\n",
        "num_movies = len(movie_encoded2movie)\n",
        "df[\"rating\"] = df[\"rating\"].values.astype(np.float32)\n",
        "# min and max ratings will be used to normalize the ratings later\n",
        "min_rating = min(df[\"rating\"])\n",
        "max_rating = max(df[\"rating\"])\n",
        "\n",
        "print(\n",
        "    \"Number of users: {}, Number of Movies: {}, Min rating: {}, Max rating: {}\".format(\n",
        "        num_users, num_movies, min_rating, max_rating\n",
        "    )\n",
        ")"
      ],
      "metadata": {
        "colab": {
          "base_uri": "https://localhost:8080/"
        },
        "id": "9Y3U0k_jkHa1",
        "outputId": "ce7c36b1-9945-4a6a-fd10-4076c790e0de"
      },
      "execution_count": 3,
      "outputs": [
        {
          "output_type": "stream",
          "name": "stdout",
          "text": [
            "Number of users: 610, Number of Movies: 9724, Min rating: 0.5, Max rating: 5.0\n"
          ]
        }
      ]
    },
    {
      "cell_type": "markdown",
      "source": [
        "<h1>Prepare training and validation data</h1>"
      ],
      "metadata": {
        "id": "9A1Vnf1WkShb"
      }
    },
    {
      "cell_type": "code",
      "source": [
        "df = df.sample(frac=1, random_state=42)\n",
        "x = df[[\"user\", \"movie\"]].values\n",
        "# Normalize the targets between 0 and 1. Makes it easy to train.\n",
        "y = df[\"rating\"].apply(lambda x: (x - min_rating) / (max_rating - min_rating)).values\n",
        "# Assuming training on 90% of the data and validating on 10%.\n",
        "train_indices = int(0.9 * df.shape[0])\n",
        "x_train, x_val, y_train, y_val = (\n",
        "    x[:train_indices],\n",
        "    x[train_indices:],\n",
        "    y[:train_indices],\n",
        "    y[train_indices:],\n",
        ")"
      ],
      "metadata": {
        "id": "nyoZvZqGkQgI"
      },
      "execution_count": 4,
      "outputs": []
    },
    {
      "cell_type": "markdown",
      "source": [
        "<h1>Create the model</h1>\n",
        "We embed both users and movies in to 50-dimensional vectors.<br>\n",
        "The model computes a match score between user and movie embeddings via a dot product, and adds a per-movie and per-user bias. The match score is scaled to the [0, 1] interval via a sigmoid (since our ratings are normalized to this range).<br>\n",
        "We are using Embedding layer instead of a single Dense hidden layer because Embedding layers work well with sparse data(e.g. where users have not rated most movies in the dataset)"
      ],
      "metadata": {
        "id": "_101bbDMkdnk"
      }
    },
    {
      "cell_type": "code",
      "source": [
        "EMBEDDING_SIZE = 50\n",
        "\n",
        "class RecommenderNet(keras.Model):\n",
        "    def __init__(self, num_users, num_movies, embedding_size, **kwargs):\n",
        "        super(RecommenderNet, self).__init__(**kwargs)\n",
        "        self.num_users = num_users\n",
        "        self.num_movies = num_movies\n",
        "        self.embedding_size = embedding_size\n",
        "        self.user_embedding = layers.Embedding(\n",
        "            num_users,\n",
        "            embedding_size,\n",
        "            embeddings_initializer=\"he_normal\",\n",
        "            embeddings_regularizer=keras.regularizers.l2(1e-6),\n",
        "        )\n",
        "        self.user_bias = layers.Embedding(num_users, 1)\n",
        "        self.movie_embedding = layers.Embedding(\n",
        "            num_movies,\n",
        "            embedding_size,\n",
        "            embeddings_initializer=\"he_normal\",\n",
        "            embeddings_regularizer=keras.regularizers.l2(1e-6),\n",
        "        )\n",
        "        self.movie_bias = layers.Embedding(num_movies, 1)\n",
        "\n",
        "    def call(self, inputs):\n",
        "        user_vector = self.user_embedding(inputs[:, 0])\n",
        "        user_bias = self.user_bias(inputs[:, 0])\n",
        "        movie_vector = self.movie_embedding(inputs[:, 1])\n",
        "        movie_bias = self.movie_bias(inputs[:, 1])\n",
        "        dot_user_movie = tf.tensordot(user_vector, movie_vector, 2)\n",
        "        # Add all the components (including bias)\n",
        "        x = dot_user_movie + user_bias + movie_bias\n",
        "        # The sigmoid activation forces the rating to between 0 and 1\n",
        "        return tf.nn.sigmoid(x)\n",
        "\n",
        "\n",
        "first_model = RecommenderNet(num_users, num_movies, EMBEDDING_SIZE)\n",
        "first_model.compile(\n",
        "    loss=tf.keras.losses.BinaryCrossentropy(), optimizer=keras.optimizers.Adam(lr=0.001)\n",
        ")"
      ],
      "metadata": {
        "colab": {
          "base_uri": "https://localhost:8080/"
        },
        "id": "U4cP5EUokXGf",
        "outputId": "13d95f90-29d0-4b4d-dc0f-6e7b8b5522ec"
      },
      "execution_count": 5,
      "outputs": [
        {
          "output_type": "stream",
          "name": "stderr",
          "text": [
            "/usr/local/lib/python3.7/dist-packages/keras/optimizer_v2/adam.py:105: UserWarning: The `lr` argument is deprecated, use `learning_rate` instead.\n",
            "  super(Adam, self).__init__(name, **kwargs)\n"
          ]
        }
      ]
    },
    {
      "cell_type": "markdown",
      "source": [
        "<h1>Train the model based on the data split</h1>"
      ],
      "metadata": {
        "id": "VXnLbaMSktox"
      }
    },
    {
      "cell_type": "code",
      "source": [
        "history = first_model.fit(\n",
        "    x=x_train,\n",
        "    y=y_train,\n",
        "    batch_size=64,\n",
        "    epochs=5,\n",
        "    verbose=1,\n",
        "    validation_data=(x_val, y_val),\n",
        ")"
      ],
      "metadata": {
        "colab": {
          "base_uri": "https://localhost:8080/"
        },
        "id": "qI44E4LSkcVo",
        "outputId": "383fad44-0cf4-46a3-8113-86a2a95e5b38"
      },
      "execution_count": 6,
      "outputs": [
        {
          "output_type": "stream",
          "name": "stdout",
          "text": [
            "Epoch 1/5\n",
            "1418/1418 [==============================] - 20s 8ms/step - loss: 0.6358 - val_loss: 0.6206\n",
            "Epoch 2/5\n",
            "1418/1418 [==============================] - 11s 7ms/step - loss: 0.6135 - val_loss: 0.6175\n",
            "Epoch 3/5\n",
            "1418/1418 [==============================] - 7s 5ms/step - loss: 0.6088 - val_loss: 0.6143\n",
            "Epoch 4/5\n",
            "1418/1418 [==============================] - 7s 5ms/step - loss: 0.6079 - val_loss: 0.6128\n",
            "Epoch 5/5\n",
            "1418/1418 [==============================] - 7s 5ms/step - loss: 0.6071 - val_loss: 0.6129\n"
          ]
        }
      ]
    },
    {
      "cell_type": "markdown",
      "source": [
        "<h1>Plot training and validation loss</h1>"
      ],
      "metadata": {
        "id": "PY14I6Jvk10A"
      }
    },
    {
      "cell_type": "code",
      "source": [
        "plt.plot(history.history[\"loss\"])\n",
        "plt.plot(history.history[\"val_loss\"])\n",
        "plt.title(\"model loss\")\n",
        "plt.ylabel(\"loss\")\n",
        "plt.xlabel(\"epoch\")\n",
        "plt.legend([\"train\", \"test\"], loc=\"upper left\")\n",
        "plt.show()"
      ],
      "metadata": {
        "id": "4GECJpdskzxa",
        "colab": {
          "base_uri": "https://localhost:8080/",
          "height": 295
        },
        "outputId": "06c3c68d-3db9-4ac3-a2af-0241c68632f1"
      },
      "execution_count": 7,
      "outputs": [
        {
          "output_type": "display_data",
          "data": {
            "text/plain": [
              "<Figure size 432x288 with 1 Axes>"
            ],
            "image/png": "[encoded data removed]"
          },
          "metadata": {
            "needs_background": "light"
          }
        }
      ]
    },
    {
      "cell_type": "markdown",
      "source": [
        "<h1>Show top 10 movie recommendations to a user</h1>"
      ],
      "metadata": {
        "id": "j9AlMuIrmCQV"
      }
    },
    {
      "cell_type": "code",
      "source": [
        "def showRecommendationsUser(model, user_id= df.userId.sample(1).iloc[0]):\n",
        "  movie_df = pd.read_csv(movielens_dir / \"movies.csv\")\n",
        "# Let us get a user and see the top recommendations.\n",
        "  movies_watched_by_user = df[df.userId == user_id]\n",
        "  movies_not_watched = movie_df[\n",
        "      ~movie_df[\"movieId\"].isin(movies_watched_by_user.movieId.values)\n",
        "  ][\"movieId\"]\n",
        "  movies_not_watched = list(\n",
        "      set(movies_not_watched).intersection(set(movie2movie_encoded.keys()))\n",
        "  )\n",
        "  movies_not_watched = [[movie2movie_encoded.get(x)] for x in movies_not_watched]\n",
        "  user_encoder = user2user_encoded.get(user_id)\n",
        "  user_movie_array = np.hstack(\n",
        "      ([[user_encoder]] * len(movies_not_watched), movies_not_watched)\n",
        "  )\n",
        "  ratings = model.predict(user_movie_array).flatten()\n",
        "  top_ratings_indices = ratings.argsort()[-10:][::-1]\n",
        "  recommended_movie_ids = [\n",
        "      movie_encoded2movie.get(movies_not_watched[x][0]) for x in top_ratings_indices\n",
        "  ]\n",
        "  print(\"Showing recommendations for user: {}\".format(user_id))\n",
        "  print(\"====\" * 9)\n",
        "  print(\"Movies with high ratings from user\")\n",
        "  print(\"----\" * 8)\n",
        "  top_movies_user = (\n",
        "      movies_watched_by_user.sort_values(by=\"rating\", ascending=False)\n",
        "      .head(5)\n",
        "      .movieId.values\n",
        "  )\n",
        "  movie_df_rows = movie_df[movie_df[\"movieId\"].isin(top_movies_user)]\n",
        "  for row in movie_df_rows.itertuples():\n",
        "      print(row.title, \":\", row.genres)\n",
        "  print(\"----\" * 8)\n",
        "  print(\"Top 10 movie recommendations\")\n",
        "  print(\"----\" * 8)\n",
        "  recommended_movies = movie_df[movie_df[\"movieId\"].isin(recommended_movie_ids)]\n",
        "  for row in recommended_movies.itertuples():\n",
        "      print(row.title, \":\", row.genres)"
      ],
      "metadata": {
        "id": "gTtNeWMhmA4s"
      },
      "execution_count": 8,
      "outputs": []
    },
    {
      "cell_type": "code",
      "source": [
        "showRecommendationsUser(model= first_model, user_id= 420)"
      ],
      "metadata": {
        "colab": {
          "base_uri": "https://localhost:8080/"
        },
        "id": "4rsh2Y_kZYBc",
        "outputId": "5e447c9d-87d4-453a-bb33-facd0ab442e5"
      },
      "execution_count": 9,
      "outputs": [
        {
          "output_type": "stream",
          "name": "stdout",
          "text": [
            "Showing recommendations for user: 420\n",
            "====================================\n",
            "Movies with high ratings from user\n",
            "--------------------------------\n",
            "Singin' in the Rain (1952) : Comedy|Musical|Romance\n",
            "Some Like It Hot (1959) : Comedy|Crime\n",
            "Monty Python and the Holy Grail (1975) : Adventure|Comedy|Fantasy\n",
            "Rocky Horror Picture Show, The (1975) : Comedy|Horror|Musical|Sci-Fi\n",
            "Super Size Me (2004) : Comedy|Documentary|Drama\n",
            "--------------------------------\n",
            "Top 10 movie recommendations\n",
            "--------------------------------\n",
            "Usual Suspects, The (1995) : Crime|Mystery|Thriller\n",
            "Star Wars: Episode IV - A New Hope (1977) : Action|Adventure|Sci-Fi\n",
            "Silence of the Lambs, The (1991) : Crime|Horror|Thriller\n",
            "Fargo (1996) : Comedy|Crime|Drama|Thriller\n",
            "Godfather, The (1972) : Crime|Drama\n",
            "Rear Window (1954) : Mystery|Thriller\n",
            "North by Northwest (1959) : Action|Adventure|Mystery|Romance|Thriller\n",
            "Casablanca (1942) : Drama|Romance\n",
            "Jules and Jim (Jules et Jim) (1961) : Drama|Romance\n",
            "Snatch (2000) : Comedy|Crime|Thriller\n"
          ]
        }
      ]
    },
    {
      "cell_type": "markdown",
      "source": [
        "recommends for TJ"
      ],
      "metadata": {
        "id": "U4sdnup1jBwR"
      }
    },
    {
      "cell_type": "code",
      "source": [
        "def showRecommendationsTJ(model):\n",
        "  tj_movie_ID = [121231, 122900, 122902, 122904, 122906, 122912, 122916, 122918, 122920, 122922, 125916, 128360, 131739, 134130, 134853, 140715, 140956, 159858, 161354, 161594, 162082, 163645, 164367, 166024, 166528, 167370, 168248, 168252, 168366, 174053, 174055, 176101, 177285, 177593, 177763, 177765, 179401, 179819, 180031, 180985, 182715, 183635, 184471, 185029, 185135, 185585, 187031, 187593, 189713, 188189, ]\n",
        "  tj_movie_ratings = [2.5, 3.5, 2.5, 3.75, 4.25, 4.25, 4.25, 3.5, 3.75, 3.25, 1.5, 4, 3.75, 4, 3.5, 3.75, 4, 3.75, 3.75, 4.25, 4.5, 4.25, 4.5, 4, 3.75, 0.5, 4.25, 3.5, 2, 4, 2.5, 3, 3.25, 4, 4, 3.5, 3, 3, 4.25, 3, 4, 2, 2.5, 4.5, 4.25, 4, 2.5, 3.5, 3.5, 4.5, ]\n",
        "  tj_dict = {'movieId': tj_movie_ID, 'rating':tj_movie_ratings}\n",
        "  movies_watched_by_tj = pd.DataFrame(tj_dict)\n",
        "  movie_df = pd.read_csv(movielens_dir / \"movies.csv\")\n",
        "\n",
        "  movies_not_watched_by_tj = movie_df[\n",
        "      ~movie_df[\"movieId\"].isin(movies_watched_by_tj.movieId.values)\n",
        "  ][\"movieId\"]\n",
        "  movies_not_watched_by_tj = list(\n",
        "      set(movies_not_watched_by_tj).intersection(set(movie2movie_encoded.keys()))\n",
        "  )\n",
        "  movies_not_watched_by_tj = [[movie2movie_encoded.get(x)] for x in movies_not_watched_by_tj]\n",
        "  user_encoder = 609 #must be in range, does not affect prediction. tested\n",
        "  user_movie_array = np.hstack(\n",
        "      ([[user_encoder]] * len(movies_not_watched_by_tj), movies_not_watched_by_tj)\n",
        "  )\n",
        "  ratings = model.predict(user_movie_array).flatten()\n",
        "  top_ratings_indices = ratings.argsort()[-10:][::-1]\n",
        "  recommended_movie_ids = [\n",
        "      movie_encoded2movie.get(movies_not_watched_by_tj[x][0]) for x in top_ratings_indices\n",
        "  ]\n",
        "  print(\"Showing recommendations for user: TJ\")\n",
        "  print(\"====\" * 9)\n",
        "  print(\"Movies with high ratings from user\")\n",
        "  print(\"----\" * 8)\n",
        "  top_movies_user = (\n",
        "      movies_watched_by_tj.sort_values(by=\"rating\", ascending=False)\n",
        "      .head(5)\n",
        "      .movieId.values\n",
        "  )\n",
        "  movie_df_rows = movie_df[movie_df[\"movieId\"].isin(top_movies_user)]\n",
        "  for row in movie_df_rows.itertuples():\n",
        "      print(row.title, \":\", row.genres)\n",
        "  print(\"----\" * 8)\n",
        "  print(\"Top 10 movie recommendations\")\n",
        "  print(\"----\" * 8)\n",
        "  recommended_movies = movie_df[movie_df[\"movieId\"].isin(recommended_movie_ids)]\n",
        "  for row in recommended_movies.itertuples():\n",
        "      print(row.title, \":\", row.genres)"
      ],
      "metadata": {
        "id": "diNgP--h9RlS"
      },
      "execution_count": 10,
      "outputs": []
    },
    {
      "cell_type": "code",
      "source": [
        "showRecommendationsTJ(first_model)"
      ],
      "metadata": {
        "colab": {
          "base_uri": "https://localhost:8080/"
        },
        "id": "3Z2ySvqJZ0zu",
        "outputId": "71fe516a-46ae-4ba7-8694-badc7d0b9dd6"
      },
      "execution_count": 11,
      "outputs": [
        {
          "output_type": "stream",
          "name": "stdout",
          "text": [
            "Showing recommendations for user: TJ\n",
            "====================================\n",
            "Movies with high ratings from user\n",
            "--------------------------------\n",
            "Kingsglaive: Final Fantasy XV (2016) : Action|Adventure|Animation|Drama|Fantasy|Sci-Fi\n",
            "Train to Busan (2016) : Action|Thriller\n",
            "The Girl with All the Gifts (2016) : Drama|Horror|Sci-Fi|Thriller\n",
            "A Quiet Place (2018) : Drama|Horror|Thriller\n",
            "Sorry to Bother You (2018) : Comedy|Fantasy|Sci-Fi\n",
            "--------------------------------\n",
            "Top 10 movie recommendations\n",
            "--------------------------------\n",
            "Star Wars: Episode IV - A New Hope (1977) : Action|Adventure|Sci-Fi\n",
            "Pulp Fiction (1994) : Comedy|Crime|Drama|Thriller\n",
            "Shawshank Redemption, The (1994) : Crime|Drama\n",
            "Forrest Gump (1994) : Comedy|Drama|Romance|War\n",
            "Godfather, The (1972) : Crime|Drama\n",
            "Rear Window (1954) : Mystery|Thriller\n",
            "Casablanca (1942) : Drama|Romance\n",
            "Goodfellas (1990) : Crime|Drama\n",
            "Cool Hand Luke (1967) : Drama\n",
            "Fight Club (1999) : Action|Crime|Drama|Thriller\n"
          ]
        }
      ]
    },
    {
      "cell_type": "markdown",
      "source": [
        "yes, good recommendations actually"
      ],
      "metadata": {
        "id": "aAodtZHep6Jz"
      }
    },
    {
      "cell_type": "markdown",
      "source": [
        "PART 3"
      ],
      "metadata": {
        "id": "crg2CyxVi9hk"
      }
    },
    {
      "cell_type": "code",
      "source": [
        "EMBEDDING_SIZE = 50\n",
        "\n",
        "class improvedRecommender(keras.Model):\n",
        "    def __init__(self, num_users, num_movies, embedding_size, **kwargs):\n",
        "        super(improvedRecommender, self).__init__(**kwargs)\n",
        "        self.num_users = num_users\n",
        "        self.num_movies = num_movies\n",
        "        self.embedding_size = embedding_size\n",
        "        self.user_embedding = layers.Embedding(\n",
        "            num_users,\n",
        "            embedding_size,\n",
        "            embeddings_initializer=\"he_normal\",\n",
        "            embeddings_regularizer=keras.regularizers.l2(1e-6),\n",
        "        )\n",
        "        self.user_bias = layers.Embedding(num_users, 1)\n",
        "        self.movie_embedding = layers.Embedding(\n",
        "            num_movies,\n",
        "            embedding_size,\n",
        "            embeddings_initializer=\"he_normal\",\n",
        "            embeddings_regularizer=keras.regularizers.l2(1e-6),\n",
        "        )\n",
        "        self.movie_bias = layers.Embedding(num_movies, 1)\n",
        "        self.user_movie_relationship1 = tf.keras.layers.Dense(100, activation= \"relu\")# use_bias= False)#, input_shape = (64,)\n",
        "        self.user_movie_relationship2 = tf.keras.layers.Dense(50, activation= \"relu\")# use_bias= False)#, input_shape = (64,)\n",
        "        self.output_layer = tf.keras.layers.Dense(1, activation= \"sigmoid\", input_shape= (50,))#, use_biase=False)\n",
        "\n",
        "    def call(self, inputs):\n",
        "        user_vector = self.user_embedding(inputs[:, 0])\n",
        "        user_bias = self.user_bias(inputs[:, 0])\n",
        "        movie_vector = self.movie_embedding(inputs[:, 1])\n",
        "        movie_bias = self.movie_bias(inputs[:, 1])\n",
        "        \n",
        "        concat_inputs = tf.concat([user_vector, movie_vector], 1)\n",
        "        concat_bias = user_bias + movie_bias\n",
        "        response = self.user_movie_relationship1(concat_inputs)\n",
        "        response = self.user_movie_relationship2(response)\n",
        "        response = response + concat_bias\n",
        "        response = self.output_layer(response)\n",
        "        return response\n",
        "\n",
        "\n",
        "new_model = improvedRecommender(num_users, num_movies, EMBEDDING_SIZE)\n",
        "new_model.compile(\n",
        "    loss=tf.keras.losses.BinaryCrossentropy(), optimizer=keras.optimizers.Adam(lr=0.001)\n",
        ")"
      ],
      "metadata": {
        "id": "gFcxvVMiZKEw",
        "colab": {
          "base_uri": "https://localhost:8080/"
        },
        "outputId": "073e9482-61d3-4321-cf4c-d0ba29c1cd7b"
      },
      "execution_count": 12,
      "outputs": [
        {
          "output_type": "stream",
          "name": "stderr",
          "text": [
            "/usr/local/lib/python3.7/dist-packages/keras/optimizer_v2/adam.py:105: UserWarning: The `lr` argument is deprecated, use `learning_rate` instead.\n",
            "  super(Adam, self).__init__(name, **kwargs)\n"
          ]
        }
      ]
    },
    {
      "cell_type": "code",
      "source": [
        "history = new_model.fit(\n",
        "    x=x_train,\n",
        "    y=y_train,\n",
        "    batch_size=64,\n",
        "    epochs=5,\n",
        "    verbose=1,\n",
        "    validation_data=(x_val, y_val),\n",
        ")"
      ],
      "metadata": {
        "id": "BlG9IdSVvcVn",
        "colab": {
          "base_uri": "https://localhost:8080/"
        },
        "outputId": "9ac098cf-9ae8-44e4-8965-8be6feb3fcc7"
      },
      "execution_count": 13,
      "outputs": [
        {
          "output_type": "stream",
          "name": "stdout",
          "text": [
            "Epoch 1/5\n",
            "1418/1418 [==============================] - 9s 6ms/step - loss: 0.6053 - val_loss: 0.6013\n",
            "Epoch 2/5\n",
            "1418/1418 [==============================] - 8s 5ms/step - loss: 0.5900 - val_loss: 0.6009\n",
            "Epoch 3/5\n",
            "1418/1418 [==============================] - 8s 6ms/step - loss: 0.5804 - val_loss: 0.6028\n",
            "Epoch 4/5\n",
            "1418/1418 [==============================] - 9s 6ms/step - loss: 0.5695 - val_loss: 0.6060\n",
            "Epoch 5/5\n",
            "1418/1418 [==============================] - 7s 5ms/step - loss: 0.5600 - val_loss: 0.6109\n"
          ]
        }
      ]
    },
    {
      "cell_type": "markdown",
      "source": [
        "predict for sample data"
      ],
      "metadata": {
        "id": "4O8JC2ss3jYm"
      }
    },
    {
      "cell_type": "code",
      "source": [
        "showRecommendationsUser(model= new_model, user_id= 420)"
      ],
      "metadata": {
        "id": "x6AdaniTvdmF",
        "colab": {
          "base_uri": "https://localhost:8080/"
        },
        "outputId": "3dad0cb9-776e-4150-9f93-9ee8bac0c076"
      },
      "execution_count": 14,
      "outputs": [
        {
          "output_type": "stream",
          "name": "stdout",
          "text": [
            "Showing recommendations for user: 420\n",
            "====================================\n",
            "Movies with high ratings from user\n",
            "--------------------------------\n",
            "Singin' in the Rain (1952) : Comedy|Musical|Romance\n",
            "Some Like It Hot (1959) : Comedy|Crime\n",
            "Monty Python and the Holy Grail (1975) : Adventure|Comedy|Fantasy\n",
            "Rocky Horror Picture Show, The (1975) : Comedy|Horror|Musical|Sci-Fi\n",
            "Super Size Me (2004) : Comedy|Documentary|Drama\n",
            "--------------------------------\n",
            "Top 10 movie recommendations\n",
            "--------------------------------\n",
            "Chungking Express (Chung Hing sam lam) (1994) : Drama|Mystery|Romance\n",
            "Wallace & Gromit: A Close Shave (1995) : Animation|Children|Comedy\n",
            "It Happened One Night (1934) : Comedy|Romance\n",
            "Adventures of Robin Hood, The (1938) : Action|Adventure|Romance\n",
            "Good, the Bad and the Ugly, The (Buono, il brutto, il cattivo, Il) (1966) : Action|Adventure|Western\n",
            "Cool Hand Luke (1967) : Drama\n",
            "Last Tango in Paris (Ultimo tango a Parigi) (1972) : Drama|Romance\n",
            "Adam's Rib (1949) : Comedy|Romance\n",
            "Dogville (2003) : Drama|Mystery|Thriller\n",
            "Intouchables (2011) : Comedy|Drama\n"
          ]
        }
      ]
    },
    {
      "cell_type": "markdown",
      "source": [
        "predict for TJ data"
      ],
      "metadata": {
        "id": "cukfuj7K3hZn"
      }
    },
    {
      "cell_type": "code",
      "source": [
        "showRecommendationsTJ(new_model)"
      ],
      "metadata": {
        "colab": {
          "base_uri": "https://localhost:8080/"
        },
        "id": "sgSxUQUN3XgK",
        "outputId": "33c54363-f3bb-4afe-b5d1-bafa03828162"
      },
      "execution_count": 15,
      "outputs": [
        {
          "output_type": "stream",
          "name": "stdout",
          "text": [
            "Showing recommendations for user: TJ\n",
            "====================================\n",
            "Movies with high ratings from user\n",
            "--------------------------------\n",
            "Kingsglaive: Final Fantasy XV (2016) : Action|Adventure|Animation|Drama|Fantasy|Sci-Fi\n",
            "Train to Busan (2016) : Action|Thriller\n",
            "The Girl with All the Gifts (2016) : Drama|Horror|Sci-Fi|Thriller\n",
            "A Quiet Place (2018) : Drama|Horror|Thriller\n",
            "Sorry to Bother You (2018) : Comedy|Fantasy|Sci-Fi\n",
            "--------------------------------\n",
            "Top 10 movie recommendations\n",
            "--------------------------------\n",
            "Cinema Paradiso (Nuovo cinema Paradiso) (1989) : Drama\n",
            "Rosencrantz and Guildenstern Are Dead (1990) : Comedy|Drama\n",
            "Verdict, The (1982) : Drama|Mystery\n",
            "My Dinner with André (1981) : Drama\n",
            "Dog Soldiers (2002) : Action|Horror\n",
            "Memories of Murder (Salinui chueok) (2003) : Crime|Drama|Mystery|Thriller\n",
            "Bittersweet Life, A (Dalkomhan insaeng) (2005) : Action|Crime|Drama\n",
            "Only Lovers Left Alive (2013) : Drama|Horror|Romance\n",
            "Crippled Avengers (Can que) (Return of the 5 Deadly Venoms) (1981) : Action|Adventure\n",
            "Tokyo Tribe (2014) : Action|Crime|Drama|Sci-Fi\n"
          ]
        }
      ]
    },
    {
      "cell_type": "markdown",
      "source": [
        "at the time of writin this, the number one recommendation is my favorite movie (which I neglected to add/rate to the input sample data)\n",
        "\n",
        "a handful of my favorite movies i neglected to add/rate are consistently in the top 5 recommendations."
      ],
      "metadata": {
        "id": "UJDlH1LKdEIT"
      }
    },
    {
      "cell_type": "markdown",
      "source": [
        "PART 5"
      ],
      "metadata": {
        "id": "ce_TCYHcder9"
      }
    },
    {
      "cell_type": "code",
      "source": [
        "EMBEDDING_SIZE = 50\n",
        "\n",
        "class Sampling(layers.Layer):\n",
        "    \"\"\"Uses (z_mean, z_log_var) to sample z, the vector encoding the embedded user-movie inputs.\"\"\"\n",
        "\n",
        "    def call(self, inputs):\n",
        "        z_mean, z_log_var = inputs\n",
        "        batch = tf.shape(z_mean)[0]\n",
        "        dim = tf.shape(z_mean)[1]\n",
        "        epsilon = tf.keras.backend.random_normal(shape=(batch, dim))\n",
        "        return z_mean + tf.exp(0.5 * z_log_var) * epsilon\n",
        "\n",
        "class improvedRecommenderWithAutoEncoder(keras.Model):\n",
        "    def __init__(self, num_users, num_movies, embedding_size, **kwargs):\n",
        "        super(improvedRecommenderWithAutoEncoder, self).__init__(**kwargs)\n",
        "        self.num_users = num_users\n",
        "        self.num_movies = num_movies\n",
        "        self.embedding_size = embedding_size\n",
        "        self.user_embedding = layers.Embedding(\n",
        "            num_users,\n",
        "            embedding_size,\n",
        "            embeddings_initializer=\"he_normal\",\n",
        "            embeddings_regularizer=keras.regularizers.l2(1e-6),\n",
        "        )\n",
        "        self.user_bias = layers.Embedding(num_users, 1)\n",
        "        self.movie_embedding = layers.Embedding(\n",
        "            num_movies,\n",
        "            embedding_size,\n",
        "            embeddings_initializer=\"he_normal\",\n",
        "            embeddings_regularizer=keras.regularizers.l2(1e-6),\n",
        "        )\n",
        "        self.movie_bias = layers.Embedding(num_movies, 1)\n",
        "        self.user_movie_relationship1 = tf.keras.layers.Dense(50, activation= \"relu\")\n",
        "        #self.user_movie_relationship2 = tf.keras.layers.Dense(50, activation= \"relu\")\n",
        "        self.output_layer = tf.keras.layers.Dense(1, activation= \"sigmoid\", input_shape= (50,))\n",
        "\n",
        "        self.DenseSamplerZmean = tf.keras.layers.Dense(10, name=\"z_mean\")\n",
        "        self.DenseSamplerZlogvar = tf.keras.layers.Dense(10, name=\"z_log_var\")\n",
        "        self.Sampling = Sampling()\n",
        "\n",
        "    def call(self, inputs):\n",
        "        user_vector = self.user_embedding(inputs[:, 0])\n",
        "        user_bias = self.user_bias(inputs[:, 0])\n",
        "        movie_vector = self.movie_embedding(inputs[:, 1])\n",
        "        movie_bias = self.movie_bias(inputs[:, 1])\n",
        "        \n",
        "        concat_inputs = tf.concat([user_vector, movie_vector], 1)\n",
        "        concat_bias = user_bias + movie_bias\n",
        "        \n",
        "        z_mean = self.DenseSamplerZmean(concat_inputs)\n",
        "        z_log_var = self.DenseSamplerZlogvar(concat_inputs)\n",
        "        response = self.Sampling([z_mean, z_log_var])\n",
        "\n",
        "        #response = self.user_movie_relationship1(concat_inputs)\n",
        "        response = self.user_movie_relationship1(response)\n",
        "        #response = self.user_movie_relationship2(response)\n",
        "        response = response + concat_bias\n",
        "        response = self.output_layer(response)\n",
        "        return response\n",
        "    \n",
        "\n",
        "final_model = improvedRecommenderWithAutoEncoder(num_users, num_movies, EMBEDDING_SIZE)\n",
        "final_model.compile(\n",
        "    loss=tf.keras.losses.BinaryCrossentropy(), optimizer=keras.optimizers.Adam(lr=0.001)\n",
        ")"
      ],
      "metadata": {
        "colab": {
          "base_uri": "https://localhost:8080/"
        },
        "id": "H7L0dRBudNdr",
        "outputId": "0c4babb2-cb9a-42ef-9431-a8c637ebcde3"
      },
      "execution_count": 16,
      "outputs": [
        {
          "output_type": "stream",
          "name": "stderr",
          "text": [
            "/usr/local/lib/python3.7/dist-packages/keras/optimizer_v2/adam.py:105: UserWarning: The `lr` argument is deprecated, use `learning_rate` instead.\n",
            "  super(Adam, self).__init__(name, **kwargs)\n"
          ]
        }
      ]
    },
    {
      "cell_type": "markdown",
      "source": [
        "^complete this first"
      ],
      "metadata": {
        "id": "3Fd9L5VehPmT"
      }
    },
    {
      "cell_type": "code",
      "source": [
        "history = final_model.fit(\n",
        "    x=x_train,\n",
        "    y=y_train,\n",
        "    batch_size=64,\n",
        "    epochs=5,\n",
        "    verbose=1,\n",
        "    validation_data=(x_val, y_val),\n",
        ")"
      ],
      "metadata": {
        "colab": {
          "base_uri": "https://localhost:8080/"
        },
        "id": "qRhsDojrdVFD",
        "outputId": "99433391-c569-47f9-8544-12512f7906d2"
      },
      "execution_count": 17,
      "outputs": [
        {
          "output_type": "stream",
          "name": "stdout",
          "text": [
            "Epoch 1/5\n",
            "1418/1418 [==============================] - 9s 6ms/step - loss: 0.6149 - val_loss: 0.6066\n",
            "Epoch 2/5\n",
            "1418/1418 [==============================] - 8s 5ms/step - loss: 0.5967 - val_loss: 0.6034\n",
            "Epoch 3/5\n",
            "1418/1418 [==============================] - 8s 6ms/step - loss: 0.5924 - val_loss: 0.6023\n",
            "Epoch 4/5\n",
            "1418/1418 [==============================] - 8s 5ms/step - loss: 0.5897 - val_loss: 0.6021\n",
            "Epoch 5/5\n",
            "1418/1418 [==============================] - 8s 6ms/step - loss: 0.5874 - val_loss: 0.6021\n"
          ]
        }
      ]
    },
    {
      "cell_type": "code",
      "source": [
        "showRecommendationsUser(model= final_model, user_id= 420)"
      ],
      "metadata": {
        "colab": {
          "base_uri": "https://localhost:8080/"
        },
        "id": "XAOSQCR5darC",
        "outputId": "7474ab0c-7929-4982-93f4-9dc2bc880079"
      },
      "execution_count": 18,
      "outputs": [
        {
          "output_type": "stream",
          "name": "stdout",
          "text": [
            "Showing recommendations for user: 420\n",
            "====================================\n",
            "Movies with high ratings from user\n",
            "--------------------------------\n",
            "Singin' in the Rain (1952) : Comedy|Musical|Romance\n",
            "Some Like It Hot (1959) : Comedy|Crime\n",
            "Monty Python and the Holy Grail (1975) : Adventure|Comedy|Fantasy\n",
            "Rocky Horror Picture Show, The (1975) : Comedy|Horror|Musical|Sci-Fi\n",
            "Super Size Me (2004) : Comedy|Documentary|Drama\n",
            "--------------------------------\n",
            "Top 10 movie recommendations\n",
            "--------------------------------\n",
            "World of Apu, The (Apur Sansar) (1959) : Drama\n",
            "Godfather, The (1972) : Crime|Drama\n",
            "Secrets & Lies (1996) : Drama\n",
            "Streetcar Named Desire, A (1951) : Drama\n",
            "Train of Life (Train de vie) (1998) : Comedy|Drama|Romance|War\n",
            "Guess Who's Coming to Dinner (1967) : Drama\n",
            "Trial, The (Procès, Le) (1962) : Drama\n",
            "Bad Boy Bubby (1993) : Drama\n",
            "Captain Fantastic (2016) : Drama\n",
            "Three Billboards Outside Ebbing, Missouri (2017) : Crime|Drama\n"
          ]
        }
      ]
    },
    {
      "cell_type": "code",
      "source": [
        "showRecommendationsTJ(final_model)"
      ],
      "metadata": {
        "colab": {
          "base_uri": "https://localhost:8080/"
        },
        "id": "FDNGQk31dnC0",
        "outputId": "b3da15a9-82f3-48e4-b62f-c410ca5d5ba3"
      },
      "execution_count": 19,
      "outputs": [
        {
          "output_type": "stream",
          "name": "stdout",
          "text": [
            "Showing recommendations for user: TJ\n",
            "====================================\n",
            "Movies with high ratings from user\n",
            "--------------------------------\n",
            "Kingsglaive: Final Fantasy XV (2016) : Action|Adventure|Animation|Drama|Fantasy|Sci-Fi\n",
            "Train to Busan (2016) : Action|Thriller\n",
            "The Girl with All the Gifts (2016) : Drama|Horror|Sci-Fi|Thriller\n",
            "A Quiet Place (2018) : Drama|Horror|Thriller\n",
            "Sorry to Bother You (2018) : Comedy|Fantasy|Sci-Fi\n",
            "--------------------------------\n",
            "Top 10 movie recommendations\n",
            "--------------------------------\n",
            "Dr. Strangelove or: How I Learned to Stop Worrying and Love the Bomb (1964) : Comedy|War\n",
            "Paths of Glory (1957) : Drama|War\n",
            "Bridge on the River Kwai, The (1957) : Adventure|Drama|War\n",
            "Kolya (Kolja) (1996) : Comedy|Drama\n",
            "Lifeboat (1944) : Drama|War\n",
            "Jules and Jim (Jules et Jim) (1961) : Drama|Romance\n",
            "Man Bites Dog (C'est arrivé près de chez vous) (1992) : Comedy|Crime|Drama|Thriller\n",
            "Belle époque (1992) : Comedy|Romance\n",
            "Inside Job (2010) : Documentary\n",
            "Captain Fantastic (2016) : Drama\n"
          ]
        }
      ]
    },
    {
      "cell_type": "markdown",
      "source": [
        "it usually will have one of the movies i really like that i neglected to add/rate in the top 5 (shawshank, pulp fiction, godfather, starwars, clockwork orange is usually correctly in the top 5)\n",
        "\n",
        "havent seen most of the other recommendations though, but judging by imdb pages and movie category, they are good recommendations.\n"
      ],
      "metadata": {
        "id": "Eyjqt7tnXkWC"
      }
    }
  ]
}